{
 "cells": [
  {
   "cell_type": "markdown",
   "id": "7a5eb3d6",
   "metadata": {},
   "source": [
    "**Problem Statement**\n",
    "\n",
    "You are given a list that can contain positive and negative integers. You need to find two elements such that their sum is closest to zero.\n",
    "\n",
    " For example, you are given a list [-4, 7, 6, 2, -5]. The two elements with the sum closest to zero will be -5 and 6."
   ]
  },
  {
   "cell_type": "markdown",
   "id": "d67cc9d6",
   "metadata": {},
   "source": [
    "Input Format:\n",
    "\n",
    "A list of integers\n",
    "\n",
    "Output Format:\n",
    "\n",
    "The output contains the two elements with the sum closest to zero.\n",
    "\n",
    "-------------------------------------------------------------------------------\n",
    "Sample Test Cases:\n",
    "\n",
    "Input:\n",
    "\n",
    "[-4, 7, 6, 2, -5]\n",
    "\n",
    "Output:\n",
    "\n",
    "(-5, 6)\n",
    "\n",
    " \n",
    "-------------------------------------------------------------------------------------\n",
    "Input:\n",
    "\n",
    "[-50, 34, -19, 24, 33, 10, -46, -38]\n",
    "\n",
    "Output:\n",
    "\n",
    "(-38, 34)"
   ]
  },
  {
   "cell_type": "code",
   "execution_count": 29,
   "id": "7f57bf68",
   "metadata": {},
   "outputs": [
    {
     "name": "stdout",
     "output_type": "stream",
     "text": [
      "[-50, 34, -19, 24, 33, 10, -46, -38, 1, 2]\n",
      "[-38, 34]\n"
     ]
    }
   ],
   "source": [
    "import ast\n",
    "input_list=ast.literal_eval(input())\n",
    "\n",
    "def min_sum(input_list):\n",
    "    data=sorted(input_list)\n",
    "\n",
    "    l=0\n",
    "    r=len(data)-1\n",
    "    \n",
    "    output_list=[]\n",
    "    \n",
    "    if data[l]>=0:\n",
    "        output_list.extend([data[0],data[1]])\n",
    "        return output_list\n",
    "    elif data[r]<=0:\n",
    "        output_list.extend([data[-2],data[-1]])\n",
    "        return output_list\n",
    "    \n",
    "    while (l<r):\n",
    "        min_sum=abs(data[l]+data[r])\n",
    "        if min_sum>abs(data[l+1]+data[r]):\n",
    "            l=l+1\n",
    "        elif min_sum>abs(data[l]+data[r-1]):\n",
    "            r=r-1\n",
    "        else:\n",
    "            output_list.extend([data[l],data[r]])\n",
    "            return output_list\n",
    "        \n",
    "print(min_sum(input_list))"
   ]
  },
  {
   "cell_type": "code",
   "execution_count": null,
   "id": "1f2aa84e",
   "metadata": {},
   "outputs": [],
   "source": [
    "and data[l]<=0 and data[r]>=0"
   ]
  },
  {
   "cell_type": "code",
   "execution_count": 12,
   "id": "d6098e18",
   "metadata": {},
   "outputs": [],
   "source": [
    "def absMinSum(input_list):\n",
    "    \"\"\"\n",
    "    returns two elements such that their sum is closest to zero\n",
    "    \"\"\"\n",
    "    \n",
    "    data=sorted(input_list)\n",
    "    \n",
    "    min_sum = 1000000000\n",
    "    l = 0\n",
    "    r = len(data)-1\n",
    "    \n",
    "    while (l<r):\n",
    "        if abs(data[l] + data[r]) < min_sum:\n",
    "            min_sum = abs(data[l] + data[r])\n",
    "            (i, j) = (l, r)\n",
    "        if min_sum == 0:\n",
    "            break\n",
    "        if data[l] + data[r] < 0:\n",
    "            l = l + 1\n",
    "        else:\n",
    "            r = r - 1\n",
    "    return ((data[i],data[j]))"
   ]
  },
  {
   "cell_type": "code",
   "execution_count": 9,
   "id": "ffde1966",
   "metadata": {},
   "outputs": [
    {
     "name": "stdout",
     "output_type": "stream",
     "text": [
      "[-4, 7, 6, 2, -5]\n",
      "(-5, 6)\n"
     ]
    }
   ],
   "source": [
    "input_list = ast.literal_eval(input())\n",
    "print(absMinSum(input_list))"
   ]
  },
  {
   "cell_type": "code",
   "execution_count": 10,
   "id": "ce7b7a98",
   "metadata": {},
   "outputs": [
    {
     "name": "stdout",
     "output_type": "stream",
     "text": [
      "[-50, 34, -19, 24, 33, 10, -46, -38]\n",
      "(-38, 34)\n"
     ]
    }
   ],
   "source": [
    "input_list = ast.literal_eval(input())\n",
    "print(absMinSum(input_list))"
   ]
  },
  {
   "cell_type": "code",
   "execution_count": 11,
   "id": "8b46f812",
   "metadata": {},
   "outputs": [
    {
     "name": "stdout",
     "output_type": "stream",
     "text": [
      "[-7, -5, -10, 0, -1, -15, -13]\n",
      "(-1, 0)\n"
     ]
    }
   ],
   "source": [
    "input_list = ast.literal_eval(input())\n",
    "print(absMinSum(input_list))"
   ]
  },
  {
   "cell_type": "code",
   "execution_count": 15,
   "id": "ec099cce",
   "metadata": {},
   "outputs": [],
   "source": [
    "# brute force approach\n",
    "\n",
    "def brute_force(input_list):\n",
    "    min_sum = 1000000000\n",
    "    n=len(input_list)\n",
    "    \n",
    "    for i in range(n-1):\n",
    "        for j in range(i+1,n):\n",
    "            if abs(input_list[i]+input_list[j]) < min_sum:\n",
    "                min_sum = abs(input_list[i]+input_list[j])\n",
    "                (a,b) = (i,j)\n",
    "    return ((input_list[a],input_list[b]))"
   ]
  },
  {
   "cell_type": "code",
   "execution_count": 18,
   "id": "92d30687",
   "metadata": {},
   "outputs": [
    {
     "name": "stdout",
     "output_type": "stream",
     "text": [
      "[-50, 34, -19, 24, 33, 10, -46, -38, 0, 2]\n",
      "(0, 2)\n"
     ]
    }
   ],
   "source": [
    "input_list = ast.literal_eval(input())\n",
    "print(brute_force(input_list))"
   ]
  }
 ],
 "metadata": {
  "kernelspec": {
   "display_name": "Python 3 (ipykernel)",
   "language": "python",
   "name": "python3"
  },
  "language_info": {
   "codemirror_mode": {
    "name": "ipython",
    "version": 3
   },
   "file_extension": ".py",
   "mimetype": "text/x-python",
   "name": "python",
   "nbconvert_exporter": "python",
   "pygments_lexer": "ipython3",
   "version": "3.9.12"
  }
 },
 "nbformat": 4,
 "nbformat_minor": 5
}
