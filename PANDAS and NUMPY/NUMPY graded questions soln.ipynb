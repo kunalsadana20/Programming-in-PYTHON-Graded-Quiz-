{
 "cells": [
  {
   "cell_type": "markdown",
   "id": "deb69888",
   "metadata": {},
   "source": [
    "## <font color = Brown> MCQs"
   ]
  },
  {
   "cell_type": "markdown",
   "id": "99cfbc6c",
   "metadata": {},
   "source": [
    "### <font color =blue> Index of 50th element\n",
    "Consider an (8, 8) shape NumPy array. What is the index (x,y) of the 50th element?\n",
    "\n",
    "Note: For counting the elements go row-wise. For example, in the array,\n",
    "\n",
    "[[1, 5, 9],\n",
    "\n",
    " [3, 0, 2]]\n",
    "\n",
    "the 5th element would be '0'."
   ]
  },
  {
   "cell_type": "code",
   "execution_count": 20,
   "id": "1a41c38f",
   "metadata": {},
   "outputs": [
    {
     "data": {
      "text/plain": [
       "(array([6], dtype=int64), array([1], dtype=int64))"
      ]
     },
     "execution_count": 20,
     "metadata": {},
     "output_type": "execute_result"
    }
   ],
   "source": [
    "#create an 8*8 arr\n",
    "arr = np.array(range(1,8*8+1))\n",
    "\n",
    "#reshape it\n",
    "arr = arr.reshape(8,8)\n",
    "\n",
    "#find pos of 50\n",
    "np.where(arr == 50)"
   ]
  },
  {
   "cell_type": "code",
   "execution_count": 21,
   "id": "fe36ad74",
   "metadata": {},
   "outputs": [
    {
     "ename": "AttributeError",
     "evalue": "'numpy.ndarray' object has no attribute 'unravel_index'",
     "output_type": "error",
     "traceback": [
      "\u001b[1;31m---------------------------------------------------------------------------\u001b[0m",
      "\u001b[1;31mAttributeError\u001b[0m                            Traceback (most recent call last)",
      "\u001b[1;32mC:\\Users\\KUNALS~1\\AppData\\Local\\Temp/ipykernel_26504/2396443622.py\u001b[0m in \u001b[0;36m<module>\u001b[1;34m\u001b[0m\n\u001b[1;32m----> 1\u001b[1;33m \u001b[0marr\u001b[0m\u001b[1;33m.\u001b[0m\u001b[0munravel_index\u001b[0m\u001b[1;33m(\u001b[0m\u001b[1;36m49\u001b[0m\u001b[1;33m,\u001b[0m \u001b[1;33m(\u001b[0m\u001b[1;36m8\u001b[0m\u001b[1;33m,\u001b[0m\u001b[1;36m8\u001b[0m\u001b[1;33m)\u001b[0m\u001b[1;33m)\u001b[0m\u001b[1;33m\u001b[0m\u001b[1;33m\u001b[0m\u001b[0m\n\u001b[0m",
      "\u001b[1;31mAttributeError\u001b[0m: 'numpy.ndarray' object has no attribute 'unravel_index'"
     ]
    }
   ],
   "source": [
    "arr.unravel_index(49, (8,8))"
   ]
  },
  {
   "cell_type": "markdown",
   "id": "add74175",
   "metadata": {},
   "source": [
    "### <font color=blue> Slicing Arrays\n",
    "Which of the following would extract all the first 3 rows of the last 5 columns in a given numpy 2D array ‘a’?"
   ]
  },
  {
   "cell_type": "code",
   "execution_count": 23,
   "id": "865fa2ad",
   "metadata": {},
   "outputs": [
    {
     "data": {
      "text/plain": [
       "array([[ 1,  2,  3,  4,  5,  6,  7,  8],\n",
       "       [ 9, 10, 11, 12, 13, 14, 15, 16],\n",
       "       [17, 18, 19, 20, 21, 22, 23, 24],\n",
       "       [25, 26, 27, 28, 29, 30, 31, 32],\n",
       "       [33, 34, 35, 36, 37, 38, 39, 40],\n",
       "       [41, 42, 43, 44, 45, 46, 47, 48],\n",
       "       [49, 50, 51, 52, 53, 54, 55, 56],\n",
       "       [57, 58, 59, 60, 61, 62, 63, 64]])"
      ]
     },
     "execution_count": 23,
     "metadata": {},
     "output_type": "execute_result"
    }
   ],
   "source": [
    "arr"
   ]
  },
  {
   "cell_type": "code",
   "execution_count": 24,
   "id": "1f7f7866",
   "metadata": {},
   "outputs": [
    {
     "data": {
      "text/plain": [
       "array([[ 4,  5,  6,  7,  8],\n",
       "       [12, 13, 14, 15, 16],\n",
       "       [20, 21, 22, 23, 24]])"
      ]
     },
     "execution_count": 24,
     "metadata": {},
     "output_type": "execute_result"
    }
   ],
   "source": [
    "arr[:3,-5:]"
   ]
  },
  {
   "cell_type": "markdown",
   "id": "b92ed609",
   "metadata": {},
   "source": [
    "### <font color =blue>So Many Functions\n",
    "What will the output of np.arange(1,16,2).reshape(4, 2) be?"
   ]
  },
  {
   "cell_type": "code",
   "execution_count": 25,
   "id": "11eae7cb",
   "metadata": {},
   "outputs": [
    {
     "data": {
      "text/plain": [
       "array([[ 1,  3],\n",
       "       [ 5,  7],\n",
       "       [ 9, 11],\n",
       "       [13, 15]])"
      ]
     },
     "execution_count": 25,
     "metadata": {},
     "output_type": "execute_result"
    }
   ],
   "source": [
    "np.arange(1,16,2).reshape(4, 2)"
   ]
  },
  {
   "cell_type": "markdown",
   "id": "05b011d6",
   "metadata": {},
   "source": [
    "### <font color =red> Print \"+\"\n",
    "Description\n",
    "Given a single positive odd integer 'n' greater than 2, create a NumPy array of size (n x n) with all zeros and ones such that the ones make a shape like '+'. The lines of the plus must be present at the middle row and column.\n",
    "\n",
    "\n",
    "\n",
    "Hint: Start by creating a (n x n) array with all zeroes using the np.zeros() function and then fill in the ones at the appropriate indices. Use integer division (//) to access the middle rows and columns\n",
    "\n",
    "\n",
    "\n",
    "Examples:\n",
    "\n",
    "Input 1:\n",
    "\n",
    "3\n",
    "\n",
    "Output 1:\n",
    "\n",
    "[[0 1 0]\n",
    "\n",
    " [1 1 1]\n",
    "\n",
    " [0 1 0]]\n",
    "\n",
    "Input 2:\n",
    "\n",
    "5\n",
    "\n",
    "Output 1:\n",
    "\n",
    "[[0 0 1 0 0]\n",
    "\n",
    " [0 0 1 0 0]\n",
    "\n",
    " [1 1 1 1 1]\n",
    "\n",
    " [0 0 1 0 0]\n",
    "\n",
    " [0 0 1 0 0]]\n",
    "\n",
    "\n",
    "\n",
    "Explanation: Notice that the 1s in the arrays make a shape like '+'."
   ]
  },
  {
   "cell_type": "code",
   "execution_count": 14,
   "id": "dc936bfa",
   "metadata": {},
   "outputs": [
    {
     "name": "stdout",
     "output_type": "stream",
     "text": [
      "9\n",
      "[[0 0 0 0 1 0 0 0 0]\n",
      " [0 0 0 0 1 0 0 0 0]\n",
      " [0 0 0 0 1 0 0 0 0]\n",
      " [0 0 0 0 1 0 0 0 0]\n",
      " [1 1 1 1 1 1 1 1 1]\n",
      " [0 0 0 0 1 0 0 0 0]\n",
      " [0 0 0 0 1 0 0 0 0]\n",
      " [0 0 0 0 1 0 0 0 0]\n",
      " [0 0 0 0 1 0 0 0 0]]\n"
     ]
    }
   ],
   "source": [
    "# Read the input\n",
    "n = int(input())\n",
    "\n",
    "# Import the NumPy package\n",
    "import numpy as np \n",
    "\n",
    "# Write your code here\n",
    "\n",
    "#create a n*n zero array\n",
    "arr = np.zeros((n,n), dtype = int)\n",
    "\n",
    "mid = int((n-1)/2)\n",
    "\n",
    "#assign 1 on middle row\n",
    "arr[mid,:] = 1\n",
    "\n",
    "#assign 1 on middle column\n",
    "arr[:,mid] = 1\n",
    "\n",
    "print(arr)"
   ]
  }
 ],
 "metadata": {
  "kernelspec": {
   "display_name": "Python 3 (ipykernel)",
   "language": "python",
   "name": "python3"
  },
  "language_info": {
   "codemirror_mode": {
    "name": "ipython",
    "version": 3
   },
   "file_extension": ".py",
   "mimetype": "text/x-python",
   "name": "python",
   "nbconvert_exporter": "python",
   "pygments_lexer": "ipython3",
   "version": "3.9.7"
  }
 },
 "nbformat": 4,
 "nbformat_minor": 5
}
