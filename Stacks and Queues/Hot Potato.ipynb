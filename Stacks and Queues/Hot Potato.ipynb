{
 "cells": [
  {
   "cell_type": "markdown",
   "id": "85704c84",
   "metadata": {},
   "source": [
    "### <font color=red>Game of Hot Potato simulation"
   ]
  },
  {
   "cell_type": "markdown",
   "id": "300e1f32",
   "metadata": {},
   "source": [
    "**Hot Potato Problem**:In this game, a group of people line up in a circle, and once the music starts, players pass an object(say a ball or a potato) to the next person and keep doing that as long as the music is still playing. The moment the music stops, whoever has the ball in their hand will be removed from the circle, and the next round of the game starts. The loop continues until only one player is left and that person is declared the winner.\n",
    "\n",
    "To implement the logic using a queue, we need to implement the following steps\n",
    "\n",
    "- Store the given list of players in a queue. Assume the object is with the player at the front of the queue.\n",
    "- The number of passes, after which a player is eliminated is taken as an input. *For simplicity, we'll assume that this number is **constant**.*\n",
    "- Perform the necessary enqueue and dequeue operations based on the number of passes to denote each round of elimination where a player is removed from the queue and the object is with the next person who'll start the subsequent round. *The last person remaining will be declared as winner.*\n",
    "\n",
    "Let's look at the following testcase to understand it better\n",
    "\n",
    "`Sample input:` \\['Smith', 'Garry', 'Michael', 'Julian', 'Robert'\\], 3 \\\n",
    "`Sample Output:`Smith\n",
    "\n",
    "`Sample input:` \\['Smith', 'Garry', 'Michael', 'Julian', 'Robert', 'Grey', 'Helene','Brad', 'Harry'\\], 6 \\\n",
    "`Sample Output:`Garry\n",
    "\n",
    "`Sample input:` \\['Ben','John','Christopher','Dev','Robin','Kelly', 'Susan'\\],12 \\\n",
    "`Sample Output:`John"
   ]
  },
  {
   "cell_type": "code",
   "execution_count": 1,
   "id": "66c841c6",
   "metadata": {},
   "outputs": [],
   "source": [
    "# define a class of 'Queue'\n",
    "class Queue():\n",
    "    def __init__(self):\n",
    "        self.items=[]\n",
    "    \n",
    "    def enqueue(self, item):\n",
    "        self.items.insert(0,item)\n",
    "    \n",
    "    def dequeue(self):\n",
    "        return self.items.pop()\n",
    "    \n",
    "    def peek(self):\n",
    "        return self.items[-1]\n",
    "    \n",
    "    def isEmpty(self):\n",
    "        return self.items==[]\n",
    "    \n",
    "    def size(self):\n",
    "        return len(self.items)"
   ]
  },
  {
   "cell_type": "code",
   "execution_count": 2,
   "id": "509bd682",
   "metadata": {},
   "outputs": [],
   "source": [
    "# function to run the game\n",
    "def hot_potato(players, passes):\n",
    "    \n",
    "    # store the initial given list of players in a queue:\n",
    "    q=Queue()                      # instance of the class\n",
    "    for i in range(len(players)):  # loop to store the player names in queue\n",
    "        q.enqueue(players[i])\n",
    "    print('Initial Queue: ',q.items)\n",
    "    \n",
    "    # running the game\n",
    "    round = 1\n",
    "    while(q.size()>1):\n",
    "        for i in range(passes):\n",
    "            player_passing = q.dequeue()\n",
    "            q.enqueue(player_passing)\n",
    "        print(f'player out at the end of round {round}:', q.dequeue())\n",
    "        round+=1\n",
    "\n",
    "    print('WINNER: ',q.peek())"
   ]
  },
  {
   "cell_type": "code",
   "execution_count": 3,
   "id": "bf9e20ef",
   "metadata": {},
   "outputs": [
    {
     "name": "stdout",
     "output_type": "stream",
     "text": [
      "Enter the number of players: \n",
      "5\n",
      "The name of players: \n",
      "Gary\n",
      "Smith\n",
      "Michael\n",
      "Julian\n",
      "Robert\n",
      "Number of passes:\n",
      "3\n"
     ]
    }
   ],
   "source": [
    "# take the input\n",
    "\n",
    "# number of players\n",
    "print('Enter the number of players: ')\n",
    "n_players = int(input())\n",
    "\n",
    "# player names\n",
    "players=[]\n",
    "print('The name of players: ')\n",
    "for i in range(n_players):\n",
    "    players.append(input())\n",
    "    \n",
    "# number of passes per each round\n",
    "print('Number of passes:')\n",
    "passes = int(input())"
   ]
  },
  {
   "cell_type": "code",
   "execution_count": 4,
   "id": "55ac88bf",
   "metadata": {},
   "outputs": [
    {
     "name": "stdout",
     "output_type": "stream",
     "text": [
      "Initial Queue:  ['Robert', 'Julian', 'Michael', 'Smith', 'Gary']\n",
      "player out at the end of round 1: Julian\n",
      "player out at the end of round 2: Michael\n",
      "player out at the end of round 3: Robert\n",
      "player out at the end of round 4: Smith\n",
      "WINNER:  Gary\n"
     ]
    }
   ],
   "source": [
    "# run the game\n",
    "hot_potato(players,passes)"
   ]
  }
 ],
 "metadata": {
  "kernelspec": {
   "display_name": "Python 3 (ipykernel)",
   "language": "python",
   "name": "python3"
  },
  "language_info": {
   "codemirror_mode": {
    "name": "ipython",
    "version": 3
   },
   "file_extension": ".py",
   "mimetype": "text/x-python",
   "name": "python",
   "nbconvert_exporter": "python",
   "pygments_lexer": "ipython3",
   "version": "3.9.12"
  }
 },
 "nbformat": 4,
 "nbformat_minor": 5
}
