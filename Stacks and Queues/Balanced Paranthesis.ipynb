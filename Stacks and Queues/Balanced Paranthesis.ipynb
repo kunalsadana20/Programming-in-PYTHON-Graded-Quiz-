{
 "cells": [
  {
   "cell_type": "markdown",
   "id": "e03348cf",
   "metadata": {},
   "source": [
    "### <font color=red> Balanced parantheses"
   ]
  },
  {
   "cell_type": "markdown",
   "id": "e88151f6",
   "metadata": {},
   "source": [
    "Write an algorithm that returns \"True\" if a group of parentheses which are passed as input are balanced. If not, it returns \"False\". Note that the parentheses can only be of simple brackets '()' type.\n",
    "\n",
    "**Test Case - 1** \\\n",
    "Sample input: \n",
    "(()()()()) \\\n",
    "Sample Output:\n",
    "True\n",
    "\n",
    "**Test Case - 2** \\\n",
    "Sample input:\n",
    "(()((())())) \\\n",
    "Sample Output:\n",
    "True\n",
    "\n",
    "**Test Case - 3** \\\n",
    "Sample input:\n",
    "((((((())) \\\n",
    "Sample Output:\n",
    "False\n",
    "\n",
    "**Test Case - 4** \\\n",
    "Sample input:\n",
    ")()( \\\n",
    "Sample Output:\n",
    "False\n",
    "\n",
    "***Explanation:*** \n",
    "- In test case - 1 & 2, the number of '(' and ')' brackets are both equal to 5 and the order in which they appear ensures that every opening bracket has its corresponding closing bracket. Hence, it shows `True` in the output. \n",
    "- In test case - 3, the number of '(' is equal to 7 whereas the number of ')' is equal to 3. Hence it shows `False` in the output.\n",
    "- In test case - 4, although the number of opening and closing braces match, they are not in proper order, thus making it unbalanced. The function returns `False`."
   ]
  },
  {
   "cell_type": "code",
   "execution_count": 1,
   "id": "81d01378",
   "metadata": {},
   "outputs": [],
   "source": [
    "# create a class called Stack\n",
    "class Stack:\n",
    "    def __init__(self):\n",
    "        self.items=[]\n",
    "        \n",
    "    def push(self,item):\n",
    "        self.items.append(item)\n",
    "    \n",
    "    def pop(self):\n",
    "        return self.items.pop()\n",
    "        \n",
    "    def peek(self):\n",
    "        return self.items[-1]\n",
    "    \n",
    "    def isEmpty(self):\n",
    "        return self.items==[]\n",
    "    \n",
    "    def size(self):\n",
    "        return len(self.items)"
   ]
  },
  {
   "cell_type": "code",
   "execution_count": 2,
   "id": "9156ba36",
   "metadata": {},
   "outputs": [],
   "source": [
    "# create a function to check if parenthesis balanced or not\n",
    "def balanced_parenthesis(inp_str):\n",
    "    s=Stack()\n",
    "    for i in inp_str:\n",
    "        if i=='(':\n",
    "            s.push(i)\n",
    "        else:\n",
    "            if s.isEmpty():\n",
    "                return False\n",
    "            else:\n",
    "                s.pop()\n",
    "    if s.isEmpty():\n",
    "        return True\n",
    "    else:\n",
    "        return False"
   ]
  },
  {
   "cell_type": "code",
   "execution_count": 3,
   "id": "61c9c3af",
   "metadata": {},
   "outputs": [
    {
     "data": {
      "text/plain": [
       "False"
      ]
     },
     "execution_count": 3,
     "metadata": {},
     "output_type": "execute_result"
    }
   ],
   "source": [
    "# take input\n",
    "inp_str = ')()('\n",
    "\n",
    "# calling the function\n",
    "balanced_parenthesis(inp_str)"
   ]
  }
 ],
 "metadata": {
  "kernelspec": {
   "display_name": "Python 3 (ipykernel)",
   "language": "python",
   "name": "python3"
  },
  "language_info": {
   "codemirror_mode": {
    "name": "ipython",
    "version": 3
   },
   "file_extension": ".py",
   "mimetype": "text/x-python",
   "name": "python",
   "nbconvert_exporter": "python",
   "pygments_lexer": "ipython3",
   "version": "3.9.12"
  }
 },
 "nbformat": 4,
 "nbformat_minor": 5
}
