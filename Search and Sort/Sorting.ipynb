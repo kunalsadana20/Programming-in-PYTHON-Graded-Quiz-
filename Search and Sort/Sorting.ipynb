{
 "cells": [
  {
   "cell_type": "markdown",
   "id": "654682f5",
   "metadata": {},
   "source": [
    "**Bubble Sort**"
   ]
  },
  {
   "cell_type": "code",
   "execution_count": 5,
   "id": "4dc36e77",
   "metadata": {},
   "outputs": [
    {
     "name": "stdout",
     "output_type": "stream",
     "text": [
      "3\n",
      "[12, 8, 9, 10, 15, 4, 3, 6, 7]\n",
      "[8, 9, 4, 3, 6, 7, 10, 12, 15]\n"
     ]
    }
   ],
   "source": [
    " "
   ]
  },
  {
   "cell_type": "code",
   "execution_count": null,
   "id": "1993edd3",
   "metadata": {},
   "outputs": [],
   "source": []
  },
  {
   "cell_type": "markdown",
   "id": "42707085",
   "metadata": {},
   "source": [
    "**Insertion Sort**"
   ]
  },
  {
   "cell_type": "code",
   "execution_count": null,
   "id": "66105ef5",
   "metadata": {},
   "outputs": [],
   "source": []
  },
  {
   "cell_type": "code",
   "execution_count": 4,
   "id": "e6183247",
   "metadata": {},
   "outputs": [
    {
     "name": "stdout",
     "output_type": "stream",
     "text": [
      "[12, 8, 9, 10, 15, 4, 3, 6, 7]\n",
      "[8, 9, 12, 10, 15, 4, 3, 6, 7]\n"
     ]
    }
   ],
   "source": [
    "#take input here\n",
    "import ast\n",
    "inp_list = ast.literal_eval(input())\n",
    "\n",
    "#sort code\n",
    "n=len(inp_list)\n",
    "\n",
    "for i in range(1,3):\n",
    "    j=i-1\n",
    "    temp=inp_list[i]\n",
    "    while(temp<inp_list[j] and j>=0):\n",
    "        inp_list[j+1]=inp_list[j]\n",
    "        j=j-1\n",
    "    inp_list[j+1]=temp\n",
    "print(inp_list)\n"
   ]
  },
  {
   "cell_type": "code",
   "execution_count": null,
   "id": "d66f2f7c",
   "metadata": {},
   "outputs": [],
   "source": []
  }
 ],
 "metadata": {
  "kernelspec": {
   "display_name": "Python 3 (ipykernel)",
   "language": "python",
   "name": "python3"
  },
  "language_info": {
   "codemirror_mode": {
    "name": "ipython",
    "version": 3
   },
   "file_extension": ".py",
   "mimetype": "text/x-python",
   "name": "python",
   "nbconvert_exporter": "python",
   "pygments_lexer": "ipython3",
   "version": "3.9.12"
  }
 },
 "nbformat": 4,
 "nbformat_minor": 5
}
