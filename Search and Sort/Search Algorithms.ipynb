{
 "cells": [
  {
   "cell_type": "markdown",
   "id": "8dc2543e",
   "metadata": {},
   "source": [
    "**Binary Search**\n",
    "\n",
    "Input:\n",
    "Two lines of input will be provided. The first line will have a sorted list with no repeated values, while the second line will have a key whose occurrence you have to find in the list.\n",
    "\n",
    "Output:\n",
    "Index of the key in the given list if it is present, else -1.\n",
    "\n",
    "----------------------------------------------------------------------\n",
    "Sample input:\n",
    "[3, 5, 7, 9, 11, 13, 15, 17, 19, 21, 23, 25, 27]\n",
    "\n",
    "17\n",
    "\n",
    "Sample output:\n",
    "7\n",
    "\n",
    "----------------------------------------------------------------------\n",
    "Sample input:\n",
    "[3, 5, 7, 9, 11, 13, 15, 17, 19, 21, 23, 25, 27]\n",
    "\n",
    "1\n",
    "\n",
    "Sample output:\n",
    "-1"
   ]
  },
  {
   "cell_type": "code",
   "execution_count": 1,
   "id": "84182936",
   "metadata": {},
   "outputs": [
    {
     "name": "stdout",
     "output_type": "stream",
     "text": [
      "[3, 5, 7, 9, 11, 13, 15, 17, 19, 21, 23, 25, 27]\n",
      "13\n"
     ]
    },
    {
     "data": {
      "text/plain": [
       "5"
      ]
     },
     "execution_count": 1,
     "metadata": {},
     "output_type": "execute_result"
    }
   ],
   "source": [
    "# take input here\n",
    "import ast\n",
    "sorted_list=ast.literal_eval(input())   \n",
    "key= int(input())\n",
    "\n",
    "# search\n",
    "def binary_search(sorted_list, key):\n",
    "    l=0\n",
    "    r=len(sorted_list)-1\n",
    "\n",
    "    while(l<=r):\n",
    "        mid = (l+r)//2\n",
    "        if key==sorted_list[mid]:\n",
    "            return mid\n",
    "        elif key<sorted_list[mid]:\n",
    "            r=mid-1\n",
    "        else:\n",
    "            l=mid+1\n",
    "    return -1\n",
    "\n",
    "binary_search(sorted_list, key)"
   ]
  },
  {
   "cell_type": "markdown",
   "id": "64dfa1bd",
   "metadata": {},
   "source": [
    "**Rotated list**\n",
    "\n",
    "Description:\n",
    "To make the question a little more difficult, the sorted list with no repeated values is first 'rotated' and then passed as input. Everything else remains the same.\n",
    "\n",
    "Rotation of the list is done by first selecting the pivot around which the list is then rotated. For eg- the sorted list is [10, 20, 30, 40, 50, 60, 70] and the pivot of rotation is index 2 (that is value 30) then the rotated list will look like [40, 50, 60, 70, 10, 20, 30]\n",
    "\n",
    "\n",
    "\n",
    "----------------------------------------------------------------------\n",
    "\n",
    "Input:\n",
    "\n",
    "Two lines of input, the first line contains a list that is rotated only once, and the second line contains a key that you have to find in the list.\n",
    "\n",
    "\n",
    "\n",
    "Note: The list can be rotated about the last element, meaning the list will remain sorted.\n",
    "\n",
    "\n",
    "\n",
    "Output:\n",
    "\n",
    "Index of the key in the rotated list if it is present, else -1.\n",
    "\n",
    "\n",
    "\n",
    "----------------------------------------------------------------------\n",
    "\n",
    "Sample input:\n",
    "\n",
    "[15, 16, 17, 18, 11, 12, 13, 14]\n",
    "\n",
    "12\n",
    "\n",
    "\n",
    "\n",
    "Sample output:\n",
    "\n",
    "5\n",
    "\n",
    "\n",
    "\n",
    "----------------------------------------------------------------------\n",
    "\n",
    "Sample input:\n",
    "\n",
    "[3, 5, 7, 9, 11, 13, 15, 17, 19, 21, 23, 25, 27]\n",
    "\n",
    "17\n",
    "\n",
    "\n",
    "\n",
    "Sample output:\n",
    "\n",
    "7"
   ]
  },
  {
   "cell_type": "code",
   "execution_count": 33,
   "id": "c8daa1a2",
   "metadata": {},
   "outputs": [
    {
     "name": "stdout",
     "output_type": "stream",
     "text": [
      "[15, 16, 17, 18, 11, 12, 13, 14]\n",
      "12\n",
      "5\n"
     ]
    }
   ],
   "source": [
    "#take input on your own\n",
    "import ast\n",
    "pivot_list=ast.literal_eval(input())\n",
    "key = int(input())\n",
    "\n",
    "#find key in rotated list\n",
    "def pivot_search(pivot_list, key):\n",
    "    l=0\n",
    "    r=len(pivot_list)-1\n",
    "    for i in range(1,len(pivot_list)):\n",
    "        if pivot_list[i-1]>pivot_list[i]:\n",
    "            if key>pivot_list[-1]:\n",
    "                r=i-1\n",
    "            else:\n",
    "                l=i\n",
    "    while(l<=r):\n",
    "        mid = (l+r)//2\n",
    "        if key==pivot_list[mid]:\n",
    "            return mid\n",
    "        elif key<pivot_list[mid]:\n",
    "            r=mid-1\n",
    "        else:\n",
    "            l=mid+1\n",
    "    return -1\n",
    "print(pivot_search(pivot_list, key))"
   ]
  },
  {
   "cell_type": "code",
   "execution_count": 36,
   "id": "91c07cb4",
   "metadata": {},
   "outputs": [
    {
     "name": "stdout",
     "output_type": "stream",
     "text": [
      "[15, 16, 17, 18, 11, 12, 13, 14]\n",
      "12\n",
      "5\n"
     ]
    }
   ],
   "source": [
    "#take input on your own\n",
    "import ast\n",
    "pivot_list=ast.literal_eval(input())\n",
    "key = int(input())\n",
    "\n",
    "#find key in rotated list\n",
    "def pivot_search(pivot_list, key):\n",
    "    l=0\n",
    "    r=len(pivot_list)-1\n",
    "    \n",
    "    while(l<=r):\n",
    "        mid = (l+r)//2\n",
    "        if key==pivot_list[mid]:\n",
    "            return mid\n",
    "        elif pivot_list[l]<=pivot_list[mid]:\n",
    "            if key>=pivot_list[l] and key<pivot_list[mid]:\n",
    "                r=mid-1\n",
    "            else:\n",
    "                l=mid+1\n",
    "        elif pivot_list[l]>pivot_list[mid]:\n",
    "            if key>pivot_list[mid] and key<pivot_list[r]:\n",
    "                l=mid+1\n",
    "            else:\n",
    "                r=mid-1\n",
    "    return -1\n",
    "\n",
    "print(pivot_search(pivot_list, key))              "
   ]
  },
  {
   "cell_type": "markdown",
   "id": "8448674a",
   "metadata": {},
   "source": [
    "**Square root**\n",
    "\n",
    "Description:\n",
    "You will be given a positive integer n, you have to use binary search and find the square root of n.\n",
    "\n",
    "----------------------------------------------------------------------\n",
    "Input:\n",
    "A single positive integer n.\n",
    "0<n<=10000\n",
    "\n",
    "Output:\n",
    "The square root of n, accurate up to 4 decimal places.\n",
    "\n",
    "Hint: you may find round() function useful here.\n",
    "\n",
    "----------------------------------------------------------------------\n",
    "Sample input:\n",
    "5\n",
    "\n",
    "Sample output:\n",
    "2.2361\n",
    "\n",
    "Explanation:\n",
    "The square root of 5 is 2.236067977..., upon rounding off to 4 decimals, we get 2.2361\n",
    "\n",
    "----------------------------------------------------------------------\n",
    "Sample input:\n",
    "9\n",
    "\n",
    "Sample output:\n",
    "3.0000"
   ]
  },
  {
   "cell_type": "code",
   "execution_count": 15,
   "id": "84ebef5c",
   "metadata": {},
   "outputs": [
    {
     "name": "stdout",
     "output_type": "stream",
     "text": [
      "9\n",
      "3.0000\n"
     ]
    }
   ],
   "source": [
    "#input has been taken for you\n",
    "n=int(input())\n",
    "\n",
    "#find square root of n here\n",
    "def sq_root(n):\n",
    "    l=0\n",
    "    r=n\n",
    "    \n",
    "    while (abs(r-l)>10**(-5)):\n",
    "        mid=(l+r)/2\n",
    "        if mid**2>n:\n",
    "            r=mid\n",
    "        else:\n",
    "            l=mid\n",
    "    return round(mid,4)\n",
    "print('%.4f'%sq_root(n))"
   ]
  }
 ],
 "metadata": {
  "kernelspec": {
   "display_name": "Python 3 (ipykernel)",
   "language": "python",
   "name": "python3"
  },
  "language_info": {
   "codemirror_mode": {
    "name": "ipython",
    "version": 3
   },
   "file_extension": ".py",
   "mimetype": "text/x-python",
   "name": "python",
   "nbconvert_exporter": "python",
   "pygments_lexer": "ipython3",
   "version": "3.9.12"
  }
 },
 "nbformat": 4,
 "nbformat_minor": 5
}
