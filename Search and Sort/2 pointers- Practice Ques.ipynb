{
 "cells": [
  {
   "cell_type": "markdown",
   "id": "b08bcde3",
   "metadata": {},
   "source": [
    "**Sort a vector of 0s, 1s, and 2s**\n",
    "\n",
    "Description:\n",
    "Write a code to sort a listof 0s, 1s, and 2s. Note that the time complexity should be O(n). \n",
    "Note: Do not use the built-in sorted() function.\n",
    "\n",
    "Example:\n",
    "\n",
    "Input 1:\n",
    "[0, 2, 0, 0, 1, 1, 2, 0, 1]\n",
    "\n",
    "Output 1:\n",
    "[0, 0, 0, 0, 1, 1, 1, 2, 2]"
   ]
  },
  {
   "cell_type": "code",
   "execution_count": 6,
   "id": "0b04cd5a",
   "metadata": {},
   "outputs": [
    {
     "name": "stdout",
     "output_type": "stream",
     "text": [
      "[0, 1, 0, 0, 1, 1, 2, 0, 1]\n",
      "[0, 0, 0, 0, 1, 1, 1, 1, 2]\n"
     ]
    }
   ],
   "source": [
    "# Read the input\n",
    "import ast\n",
    "input_list = ast.literal_eval(input())\n",
    "\n",
    "# Write your code here\n",
    "i=0\n",
    "j=0\n",
    "k=0\n",
    "n=len(input_list)\n",
    "for i in range(n):\n",
    "    if input_list[i]==0:\n",
    "        input_list[i], input_list[j]= input_list[j], input_list[i]\n",
    "        j+=1\n",
    "        if k<j:\n",
    "            k+=1\n",
    "    if input_list[i]==1:\n",
    "        input_list[i], input_list[k]= input_list[k], input_list[i]\n",
    "        k+=1\n",
    "print(input_list)"
   ]
  },
  {
   "cell_type": "code",
   "execution_count": 7,
   "id": "fbed3582",
   "metadata": {},
   "outputs": [
    {
     "name": "stdout",
     "output_type": "stream",
     "text": [
      "[0, 1, 0, 0, 1, 1, 2, 0, 1]\n",
      "[0, 0, 0, 0, 1, 1, 1, 1, 2]\n"
     ]
    }
   ],
   "source": [
    "# given soln\n",
    "\n",
    "# Read the input\n",
    "import ast\n",
    "input_list = ast.literal_eval(input())\n",
    "\n",
    "# Initialise two variables 'i' and 'j' to 1, indicating that they are currently \n",
    "# pointing at the first element in the list.\n",
    "i = 0\n",
    "j = 0\n",
    "\n",
    "# Run an outer loop for sorting the corresponding elements. The first iteration of\n",
    "# the loop will sort all the zeroes. The second iteration will sort all the ones.\n",
    "# And as sorting all the zeroes and ones automatically implies that the twos are\n",
    "# sorted, hecne, we run the loop only twice.\n",
    "for x in range(2):\n",
    "\n",
    "# Run a loop from 1 to the length of the list with the variable 'i'\n",
    "    for i in range(len(input_list)):\n",
    "      \n",
    "# If you encounter a zero, swap the values between v[i] & v[j] and increment 'j' as \n",
    "# well. 'i' anyway gets incremented with every iteration of the loop. Think about it.\n",
    "# This way, 'j' will always point at the first '1' that hasn't been sorted. And \n",
    "# swapping the value of v[i] and v[j] will help replace the 1s with 0s that come \n",
    "# after it. If v[j] is pointing at zero, swapping won't matter anyway.\n",
    "        if(input_list[i] == x):\n",
    "            temp = input_list[j]\n",
    "            input_list[j] = input_list[i]\n",
    "            input_list[i] = temp\n",
    "            j = j + 1\n",
    "\n",
    "# Print the sorted vector\n",
    "print(input_list)"
   ]
  },
  {
   "cell_type": "markdown",
   "id": "665c24ff",
   "metadata": {},
   "source": [
    "**Intersection of Sorted Arrays**\n",
    "\n",
    "Description: \n",
    "Find the intersection of two sorted lists, i.e., find the elements that occur in both.\n",
    "\n",
    "Format:\n",
    "\n",
    "Input: 2 sorted lists\n",
    "\n",
    "Output: A single sorted list that contains the elements present in both the arrays.\n",
    "\n",
    "Examples:\n",
    "\n",
    "Input 1:\n",
    "[[1, 2, 3, 5, 9],\n",
    "[3, 6, 9, 12]]\n",
    "\n",
    "Output 1:\n",
    "[3, 9]\n",
    "\n",
    "Input 2:\n",
    "[[1, 1, 2, 4, 8, 8, 8, 9],\n",
    "[1, 2, 6, 7, 8, 8, 8]]\n",
    "\n",
    "Output 2:\n",
    "[1, 2, 8, 8, 8]"
   ]
  },
  {
   "cell_type": "code",
   "execution_count": 9,
   "id": "ec3a0460",
   "metadata": {},
   "outputs": [
    {
     "name": "stdout",
     "output_type": "stream",
     "text": [
      "[[1, 2, 3, 5, 9], [3, 6, 9, 12]]\n",
      "[3, 9]\n"
     ]
    }
   ],
   "source": [
    "# Reading the input\n",
    "import ast \n",
    "input_lists = ast.literal_eval(input())\n",
    "L1 = input_lists[0]\n",
    "L2 = input_lists[1]\n",
    "\n",
    "# Write your code here\n",
    "L3=[]\n",
    "i,j=0,0\n",
    "\n",
    "while ((i<len(L1)) & (j<len(L2))):\n",
    "    if L1[i]==L2[j]:\n",
    "        L3.append(L1[i])\n",
    "        i+=1\n",
    "        j+=1\n",
    "    elif L1[i]<L2[j]:\n",
    "        i+=1\n",
    "    else:\n",
    "        j+=1\n",
    "print(L3)"
   ]
  }
 ],
 "metadata": {
  "kernelspec": {
   "display_name": "Python 3 (ipykernel)",
   "language": "python",
   "name": "python3"
  },
  "language_info": {
   "codemirror_mode": {
    "name": "ipython",
    "version": 3
   },
   "file_extension": ".py",
   "mimetype": "text/x-python",
   "name": "python",
   "nbconvert_exporter": "python",
   "pygments_lexer": "ipython3",
   "version": "3.9.12"
  }
 },
 "nbformat": 4,
 "nbformat_minor": 5
}
