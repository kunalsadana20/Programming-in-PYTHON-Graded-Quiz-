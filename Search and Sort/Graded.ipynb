{
 "cells": [
  {
   "cell_type": "markdown",
   "id": "878be29f",
   "metadata": {},
   "source": [
    "**Bubble Sort**\n",
    "\n",
    "What would be the output after three iterations of bubble sort on the input given below? Consider the first element as the starting point.\n",
    "\n",
    "The input elements are as follows:\n",
    "12, 8, 9, 10, 15, 4, 3, 6, 7\n",
    "\n"
   ]
  },
  {
   "cell_type": "code",
   "execution_count": 6,
   "id": "ca8b1f7e",
   "metadata": {},
   "outputs": [
    {
     "name": "stdout",
     "output_type": "stream",
     "text": [
      "3\n",
      "[12, 8, 9, 10, 15, 4, 3, 6, 7]\n",
      "[8, 9, 4, 3, 6, 7, 10, 12, 15]\n"
     ]
    }
   ],
   "source": [
    "import ast\n",
    "# Input has been taken for you\n",
    "m=int(input())\n",
    "l=ast.literal_eval(input())\n",
    "\n",
    "#Code your logic here\n",
    "n=len(l)\n",
    "for i in range(m):\n",
    "    for j in range(n-i-1):\n",
    "        \n",
    "        if l[j]>l[j+1]:\n",
    "            l[j],l[j+1]=l[j+1],l[j] \n",
    "print(l) "
   ]
  }
 ],
 "metadata": {
  "kernelspec": {
   "display_name": "Python 3 (ipykernel)",
   "language": "python",
   "name": "python3"
  },
  "language_info": {
   "codemirror_mode": {
    "name": "ipython",
    "version": 3
   },
   "file_extension": ".py",
   "mimetype": "text/x-python",
   "name": "python",
   "nbconvert_exporter": "python",
   "pygments_lexer": "ipython3",
   "version": "3.9.12"
  }
 },
 "nbformat": 4,
 "nbformat_minor": 5
}
