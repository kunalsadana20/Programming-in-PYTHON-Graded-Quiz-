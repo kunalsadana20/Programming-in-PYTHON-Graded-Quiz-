{
 "cells": [
  {
   "cell_type": "markdown",
   "id": "14613e18",
   "metadata": {},
   "source": [
    "### <font color=red> Fibonacci Series"
   ]
  },
  {
   "cell_type": "markdown",
   "id": "427d0eb0",
   "metadata": {},
   "source": [
    "**Recursion**"
   ]
  },
  {
   "cell_type": "code",
   "execution_count": 12,
   "id": "783ff65e",
   "metadata": {},
   "outputs": [
    {
     "name": "stdout",
     "output_type": "stream",
     "text": [
      "Enter a number N, N>=2: 1000\n",
      "738 ns ± 5.9 ns per loop (mean ± std. dev. of 7 runs, 1,000,000 loops each)\n"
     ]
    }
   ],
   "source": [
    "fibo_series=[0,1]\n",
    "def fibonacci(n):\n",
    "    if n<=len(fibo_series) and n>0:\n",
    "        return fibo_series[n-1]\n",
    "    else:\n",
    "        fn = fibonacci(n-1)+fibonacci(n-2)\n",
    "        if n>len(fibo_series):\n",
    "            fibo_series.append(fn)\n",
    "        return fn\n",
    "n = int(input('Enter a number N, N>=2: '))\n",
    "%timeit fibonacci(n)"
   ]
  },
  {
   "cell_type": "markdown",
   "id": "089f6d3c",
   "metadata": {},
   "source": [
    "**Iteration**"
   ]
  },
  {
   "cell_type": "code",
   "execution_count": 13,
   "id": "42e064dc",
   "metadata": {},
   "outputs": [
    {
     "name": "stdout",
     "output_type": "stream",
     "text": [
      "Enter a number N, N>=2: 1000\n",
      "536 µs ± 17.6 µs per loop (mean ± std. dev. of 7 runs, 1,000 loops each)\n"
     ]
    }
   ],
   "source": [
    "fibo_series=[0,1]\n",
    "def fib(n):\n",
    "    num=0\n",
    "    num1=0\n",
    "    num2=1\n",
    "    count=0\n",
    "    fib_series=[]\n",
    "    while(count<n):\n",
    "        fib_series.append(num1)\n",
    "        num=num1+num2\n",
    "        num1=num2\n",
    "        num2=num\n",
    "        count+=1\n",
    "    return fib_series\n",
    "    \n",
    "n = int(input('Enter a number N, N>=2: '))\n",
    "%timeit fib(n)"
   ]
  },
  {
   "cell_type": "markdown",
   "id": "33f6a4a8",
   "metadata": {},
   "source": [
    "### <font color=red> GCD"
   ]
  },
  {
   "cell_type": "markdown",
   "id": "32e533c4",
   "metadata": {},
   "source": [
    "**Recursion**"
   ]
  },
  {
   "cell_type": "code",
   "execution_count": 21,
   "id": "61a28665",
   "metadata": {},
   "outputs": [
    {
     "name": "stdout",
     "output_type": "stream",
     "text": [
      "978 ns ± 91.6 ns per loop (mean ± std. dev. of 7 runs, 1,000,000 loops each)\n"
     ]
    }
   ],
   "source": [
    "def GCD(a,b):\n",
    "    if b==0:\n",
    "        return a\n",
    "    return GCD(b, a%b)\n",
    "%timeit GCD(1000000,305)"
   ]
  },
  {
   "cell_type": "markdown",
   "id": "38651608",
   "metadata": {},
   "source": [
    "**Iteration**"
   ]
  },
  {
   "cell_type": "code",
   "execution_count": 22,
   "id": "787287fa",
   "metadata": {},
   "outputs": [
    {
     "name": "stdout",
     "output_type": "stream",
     "text": [
      "586 ns ± 24.2 ns per loop (mean ± std. dev. of 7 runs, 1,000,000 loops each)\n"
     ]
    }
   ],
   "source": [
    "def GCD(a,b):\n",
    "    while(b):\n",
    "        num = a%b\n",
    "        a=b\n",
    "        b=num\n",
    "    return a\n",
    "%timeit GCD(1000000,305)"
   ]
  },
  {
   "cell_type": "markdown",
   "id": "cfe73776",
   "metadata": {},
   "source": [
    "**Recursive Pattern**\n",
    "\n",
    "Description\n",
    "Given a positive integer 'n' and another positive integer 'k' (<n),  print the following pattern using recursion.\n",
    "\n",
    "Example:\n",
    "\n",
    "Input 1: n = 12, k = 5\n",
    "\n",
    "Output 2: 12, 7, 2, -3, 2, 7, 12\n",
    "\n",
    "Input 2: n = 10, k =2\n",
    "\n",
    "Output 2: 10, 8, 6, 4, 2, 0, 2, 4, 6, 8, 10\n",
    "\n",
    "Basically, you need to keep decrementing the given value of 'n' by 'k' until you encounter 0 or a negative number, in which case, you need to start incrementing by 'k' until you reach 'n' again.\n",
    "\n",
    "Format:\n",
    "Input: The first line contains the positive integer 'n'. The second line contains the positive integer 'k'.\n",
    "Output: The required pattern as comma-separated-values as shown in the examples above."
   ]
  },
  {
   "cell_type": "code",
   "execution_count": 44,
   "id": "8c1aa238",
   "metadata": {},
   "outputs": [
    {
     "name": "stdout",
     "output_type": "stream",
     "text": [
      "10\n",
      "2\n",
      "10, 8, 6, 4, 2, 0, 2, 4, 6, 8, 10\n"
     ]
    }
   ],
   "source": [
    "# Reading the inputs\n",
    "n = int(input())\n",
    "k = int(input())\n",
    "l=[]\n",
    "# Function\n",
    "def pattern(n,k):\n",
    "    # Write your recursive function here\n",
    "    if(n<=0):\n",
    "        l.append(str(n))\n",
    "        return n\n",
    "    pattern(n-k,k)\n",
    "    l.append(str(n))\n",
    "    return l\n",
    "lst = pattern(n,k)\n",
    "final_list = lst[::-1]+lst[1:]\n",
    "print(', '.join(final_list))\n",
    "    "
   ]
  },
  {
   "cell_type": "code",
   "execution_count": 45,
   "id": "9ce7fdd7",
   "metadata": {},
   "outputs": [
    {
     "name": "stdout",
     "output_type": "stream",
     "text": [
      "10\n",
      "2\n",
      "10, 8, 6, 4, 2, 0, 2, 4, 6, 8, 10\n"
     ]
    }
   ],
   "source": [
    "# Reading the input\n",
    "n = int(input())\n",
    "k = int(input())\n",
    "\n",
    "# Define the function\n",
    "def pattern(n, m, k):\n",
    "    \n",
    "    # Base case. If m <= 0, print m and return from the function\n",
    "    if m <= 0:\n",
    "        print(m, end = \", \")\n",
    "        return\n",
    "    \n",
    "    # Print m, call the recursive function with (n, m-k, k), and then print m again\n",
    "    print(m, end = \", \")\n",
    "    pattern(n, m-k, k)\n",
    "    # This conditional statement has been used so that you do not print a comma \n",
    "    # after the last element.\n",
    "    if(n != m):\n",
    "        print(m, end = \", \")\n",
    "    else:\n",
    "        print(m)\n",
    "\n",
    "# Declaring another variable m equal to n\n",
    "m = n\n",
    "\n",
    "# Calling the function with 3 arguments - n, m, and k. The extra m will be used\n",
    "# for recursive calls. The n will be preserved because if you check the output\n",
    "# format, you will see that after the last element, you shouldn't print a comma.\n",
    "# The value of 'n' in the function will be used primarily for that.\n",
    "pattern(n, m, k)"
   ]
  },
  {
   "cell_type": "markdown",
   "id": "8a0123ca",
   "metadata": {},
   "source": [
    "#### check the output of the following given code"
   ]
  },
  {
   "cell_type": "code",
   "execution_count": 46,
   "id": "b6c16679",
   "metadata": {},
   "outputs": [
    {
     "name": "stdout",
     "output_type": "stream",
     "text": [
      "aa\n",
      "ab\n",
      "ba\n",
      "bb\n"
     ]
    }
   ],
   "source": [
    "def magic_print(values,string,k):\n",
    "    if k==0:\n",
    "        print(string)\n",
    "        return\n",
    "    for i in values:\n",
    "        magic_print(values,string+i,k-1)\n",
    "\n",
    "values= 'ab'\n",
    "count = 2\n",
    "magic_print(values,\"\",count)"
   ]
  },
  {
   "cell_type": "code",
   "execution_count": null,
   "id": "63502df9",
   "metadata": {},
   "outputs": [],
   "source": []
  }
 ],
 "metadata": {
  "kernelspec": {
   "display_name": "Python 3 (ipykernel)",
   "language": "python",
   "name": "python3"
  },
  "language_info": {
   "codemirror_mode": {
    "name": "ipython",
    "version": 3
   },
   "file_extension": ".py",
   "mimetype": "text/x-python",
   "name": "python",
   "nbconvert_exporter": "python",
   "pygments_lexer": "ipython3",
   "version": "3.9.12"
  }
 },
 "nbformat": 4,
 "nbformat_minor": 5
}
